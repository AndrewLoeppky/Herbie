{
 "cells": [
  {
   "cell_type": "markdown",
   "metadata": {},
   "source": [
    "# Inventory\n",
    "\n",
    "Ideally, GRIB2 files have a companion \"index\" file that are a plain ASCII text file that provides some details about the contents of each file (i.e., what each GRIB message contains). These files can tell you the variable represented in the GRIB message, the level, forecast lead time, and the starting byte range in the file.\n",
    "\n",
    "There are two \"flavors\" of index files, wgrib-style and eccodes-style."
   ]
  },
  {
   "cell_type": "code",
   "execution_count": null,
   "metadata": {},
   "outputs": [],
   "source": [
    "from herbie import Herbie"
   ]
  }
 ],
 "metadata": {
  "kernelspec": {
   "display_name": "herbie-dev",
   "language": "python",
   "name": "python3"
  },
  "language_info": {
   "name": "python",
   "version": "3.12.1"
  }
 },
 "nbformat": 4,
 "nbformat_minor": 2
}
